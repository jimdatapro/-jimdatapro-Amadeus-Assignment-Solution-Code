{
 "cells": [
  {
   "cell_type": "markdown",
   "metadata": {},
   "source": [
    "# Amadeus Assignment Solution For Data Scientist Business Intelligence  "
   ]
  },
  {
   "cell_type": "markdown",
   "metadata": {},
   "source": [
    "## First exercise: count the number of lines in Python for each file"
   ]
  },
  {
   "cell_type": "code",
   "execution_count": 3,
   "metadata": {},
   "outputs": [],
   "source": [
    "import os #Importing OS module to access the file\n",
    "import csv #Importing CSV module to read the CSV files using python\n",
    "import glob #Importing glob module to iterate through files "
   ]
  },
  {
   "cell_type": "code",
   "execution_count": 4,
   "metadata": {},
   "outputs": [
    {
     "name": "stdout",
     "output_type": "stream",
     "text": [
      "File Name: bookings.csv\n",
      "Total number of line: 10000011\n",
      "File Name: searches.csv\n",
      "Total number of line: 20390199\n"
     ]
    }
   ],
   "source": [
    "for filepath in glob.iglob(r\"/Users/jimharrington/Desktop/amadeus_assignment/data challenge/*.csv\"):#Getting the file path\n",
    "    file = open(filepath) #Opening the file \n",
    "    reader = csv.reader(file) #Reading the file using CSV reader\n",
    "    lines= len(list(reader)) #Length function is used to count the number of lines\n",
    "    filename = os.path.basename(filepath) #Extracting the filename using basename function in OS module  \n",
    "    print(\"File Name:\" +\" \"+ filename +\"\\n\"+ \"Total number of line:\",lines) #Printing the output "
   ]
  },
  {
   "cell_type": "code",
   "execution_count": null,
   "metadata": {},
   "outputs": [],
   "source": []
  }
 ],
 "metadata": {
  "kernelspec": {
   "display_name": "Python 3",
   "language": "python",
   "name": "python3"
  },
  "language_info": {
   "codemirror_mode": {
    "name": "ipython",
    "version": 3
   },
   "file_extension": ".py",
   "mimetype": "text/x-python",
   "name": "python",
   "nbconvert_exporter": "python",
   "pygments_lexer": "ipython3",
   "version": "3.7.6"
  }
 },
 "nbformat": 4,
 "nbformat_minor": 4
}
